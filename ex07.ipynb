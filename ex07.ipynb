{
 "cells": [
  {
   "cell_type": "markdown",
   "metadata": {},
   "source": [
    "# Exercise 07: TF-IDF"
   ]
  },
  {
   "cell_type": "markdown",
   "metadata": {},
   "source": [
    "The following exercise uses results from our parsing to calculate a *term frequency - inverse document frequency* (TF-IDF) metric to construct *feature vectors* per document. First we'll load a *stopword* list, for common words to ignore from the analysis:"
   ]
  },
  {
   "cell_type": "code",
   "execution_count": 1,
   "metadata": {},
   "outputs": [
    {
     "name": "stdout",
     "output_type": "stream",
     "text": [
      "{'an', 'both', 'get', 'not', 'for', 'each', 'since', 'us', 'or', 'while', 'at', 'your', 'that', 'who', 'now', 'all', 'the', 'about', 'also', 'on', 'come', 'from', 'and', 'how', 'same', 'use', 'out', 'so', 'than', 'new', 'such', 'let', 'up', 'to', 'few', 'find', 'feel', 'what', 'it', 'as', 'its', 'when', 'our', 'you', 'which', 'take', 'try', 'but', 'want', 'much', 'go', 'then', 'there', 'they', 'two', 'other', 'next', 'if', 'with', 'handle', 'do', 'can', 'have', 'be', 'of', 'see', 'where', 'this', 'more', 'write', 'one', 'over', 'like', 'by', 'around', 'in', 'just', 'we', 'a', 'my', \"n't\", 'some', 'their', 'i'}\n"
     ]
    }
   ],
   "source": [
    "import pynlp\n",
    "\n",
    "stopwords = pynlp.load_stopwords(\"stop.txt\")\n",
    "print(stopwords)"
   ]
  },
  {
   "cell_type": "markdown",
   "metadata": {},
   "source": [
    "Next, we'll use a function from our `pynlp` library to iterate through the keywords for one of the parsed HTML documents:"
   ]
  },
  {
   "cell_type": "code",
   "execution_count": 2,
   "metadata": {},
   "outputs": [
    {
     "data": {
      "text/plain": [
       "['a1.json', 'a2.json']"
      ]
     },
     "execution_count": 2,
     "metadata": {},
     "output_type": "execute_result"
    }
   ],
   "source": [
    "%sx ls *.json"
   ]
  },
  {
   "cell_type": "code",
   "execution_count": 3,
   "metadata": {},
   "outputs": [
    {
     "name": "stdout",
     "output_type": "stream",
     "text": [
      "WordNode(raw='Almost', root='almost', pos='RB')\n",
      "WordNode(raw='a', root='a', pos='DT')\n",
      "WordNode(raw='year', root='year', pos='NN')\n",
      "WordNode(raw='ago', root='ago', pos='RB')\n",
      "WordNode(raw=',', root=',', pos='.')\n",
      "WordNode(raw='we', root='we', pos='PRP')\n",
      "WordNode(raw='published', root='publish', pos='VBD')\n",
      "WordNode(raw='our', root='our', pos='PRP$')\n",
      "WordNode(raw='now', root='now', pos='RB')\n",
      "WordNode(raw='-', root='-', pos='.')\n",
      "WordNode(raw='annual', root='annual', pos='JJ')\n",
      "WordNode(raw='landscape', root='landscape', pos='NN')\n",
      "WordNode(raw='of', root='of', pos='IN')\n",
      "WordNode(raw='machine', root='machine', pos='NN')\n",
      "WordNode(raw='intelligence', root='intelligence', pos='NN')\n",
      "WordNode(raw='companies', root='company', pos='NNS')\n",
      "WordNode(raw=',', root=',', pos='.')\n",
      "WordNode(raw='and', root='and', pos='CC')\n",
      "WordNode(raw='goodness', root='goodness', pos='NN')\n",
      "WordNode(raw='have', root='have', pos='VBP')\n",
      "WordNode(raw='we', root='we', pos='PRP')\n",
      "WordNode(raw='seen', root='see', pos='VBN')\n",
      "WordNode(raw='a', root='a', pos='DT')\n",
      "WordNode(raw='lot', root='lot', pos='NN')\n",
      "WordNode(raw='of', root='of', pos='IN')\n",
      "WordNode(raw='activity', root='activity', pos='NN')\n",
      "WordNode(raw='since', root='since', pos='IN')\n",
      "WordNode(raw='then', root='then', pos='RB')\n",
      "WordNode(raw='.', root='.', pos='.')\n",
      "WordNode(raw='This', root='this', pos='DT')\n",
      "WordNode(raw='year', root='year', pos='NN')\n",
      "WordNode(raw=\"'s\", root=\"'s\", pos='POS')\n",
      "WordNode(raw='landscape', root='landscape', pos='NN')\n",
      "WordNode(raw='has', root='have', pos='VBZ')\n",
      "WordNode(raw='a', root='a', pos='DT')\n",
      "WordNode(raw='third', root='third', pos='RB')\n",
      "WordNode(raw='more', root='more', pos='JJR')\n",
      "WordNode(raw='companies', root='company', pos='NNS')\n",
      "WordNode(raw='than', root='than', pos='IN')\n",
      "WordNode(raw='our', root='our', pos='PRP$')\n",
      "WordNode(raw='first', root='first', pos='JJ')\n",
      "WordNode(raw='one', root='one', pos='CD')\n",
      "WordNode(raw='did', root='do', pos='VBD')\n",
      "WordNode(raw='two', root='two', pos='CD')\n",
      "WordNode(raw='years', root='year', pos='NNS')\n",
      "WordNode(raw='ago', root='ago', pos='RB')\n",
      "WordNode(raw=',', root=',', pos='.')\n",
      "WordNode(raw='and', root='and', pos='CC')\n",
      "WordNode(raw='it', root='it', pos='PRP')\n",
      "WordNode(raw='feels', root='feel', pos='VBZ')\n",
      "WordNode(raw='even', root='even', pos='RB')\n",
      "WordNode(raw='more', root='more', pos='RBR')\n",
      "WordNode(raw='futile', root='futile', pos='JJ')\n",
      "WordNode(raw='to', root='to', pos='TO')\n",
      "WordNode(raw='try', root='try', pos='VB')\n",
      "WordNode(raw='to', root='to', pos='TO')\n",
      "WordNode(raw='be', root='be', pos='VB')\n",
      "WordNode(raw='comprehensive', root='comprehensive', pos='JJ')\n",
      "WordNode(raw=',', root=',', pos='.')\n",
      "WordNode(raw='since', root='since', pos='IN')\n",
      "WordNode(raw='this', root='this', pos='DT')\n",
      "WordNode(raw='just', root='just', pos='RB')\n",
      "WordNode(raw='scratches', root='scratch', pos='VBZ')\n",
      "WordNode(raw='the', root='the', pos='DT')\n",
      "WordNode(raw='surface', root='surface', pos='NN')\n",
      "WordNode(raw='of', root='of', pos='IN')\n",
      "WordNode(raw='all', root='all', pos='DT')\n",
      "WordNode(raw='of', root='of', pos='IN')\n",
      "WordNode(raw='the', root='the', pos='DT')\n",
      "WordNode(raw='activity', root='activity', pos='NN')\n",
      "WordNode(raw='out', root='out', pos='RB')\n",
      "WordNode(raw='there', root='there', pos='RB')\n",
      "WordNode(raw='.', root='.', pos='.')\n",
      "WordNode(raw='As', root='as', pos='IN')\n",
      "WordNode(raw='has', root='have', pos='VBZ')\n",
      "WordNode(raw='been', root='be', pos='VBN')\n",
      "WordNode(raw='the', root='the', pos='DT')\n",
      "WordNode(raw='case', root='case', pos='NN')\n",
      "WordNode(raw='for', root='for', pos='IN')\n",
      "WordNode(raw='the', root='the', pos='DT')\n",
      "WordNode(raw='last', root='last', pos='JJ')\n",
      "WordNode(raw='couple', root='couple', pos='NN')\n",
      "WordNode(raw='of', root='of', pos='IN')\n",
      "WordNode(raw='years', root='year', pos='NNS')\n",
      "WordNode(raw=',', root=',', pos='.')\n",
      "WordNode(raw='our', root='our', pos='PRP$')\n",
      "WordNode(raw='fund', root='fund', pos='NN')\n",
      "WordNode(raw='still', root='still', pos='RB')\n",
      "WordNode(raw='obsesses', root='obsess', pos='VBZ')\n",
      "WordNode(raw='over', root='over', pos='IN')\n",
      "WordNode(raw='\"', root='\"', pos='.')\n",
      "WordNode(raw='problem', root='problem', pos='NN')\n",
      "WordNode(raw='first', root='first', pos='JJ')\n",
      "WordNode(raw='\"', root='\"', pos='.')\n",
      "WordNode(raw='machine', root='machine', pos='NN')\n",
      "WordNode(raw='intelligence', root='intelligence', pos='NN')\n",
      "WordNode(raw='--', root='--', pos='.')\n",
      "WordNode(raw='we', root='we', pos='PRP')\n",
      "WordNode(raw=\"'ve\", root='have', pos='VB')\n",
      "WordNode(raw='invested', root='invest', pos='VBN')\n",
      "WordNode(raw='in', root='in', pos='IN')\n",
      "WordNode(raw='35', root='35', pos='CD')\n",
      "WordNode(raw='machine', root='machine', pos='NN')\n",
      "WordNode(raw='intelligence', root='intelligence', pos='NN')\n",
      "WordNode(raw='companies', root='company', pos='NNS')\n",
      "WordNode(raw='solving', root='solve', pos='VBG')\n",
      "WordNode(raw='35', root='35', pos='CD')\n",
      "WordNode(raw='meaningful', root='meaningful', pos='JJ')\n",
      "WordNode(raw='problems', root='problem', pos='NNS')\n",
      "WordNode(raw='in', root='in', pos='IN')\n",
      "WordNode(raw='areas', root='area', pos='NNS')\n",
      "WordNode(raw='from', root='from', pos='IN')\n",
      "WordNode(raw='security', root='security', pos='NN')\n",
      "WordNode(raw='to', root='to', pos='IN')\n",
      "WordNode(raw='recruiting', root='recruit', pos='VBG')\n",
      "WordNode(raw='to', root='to', pos='IN')\n",
      "WordNode(raw='software', root='software', pos='NN')\n",
      "WordNode(raw='development', root='development', pos='NN')\n",
      "WordNode(raw='.', root='.', pos='.')\n",
      "WordNode(raw='(', root='(', pos='.')\n",
      "WordNode(raw='Our', root='our', pos='PRP$')\n",
      "WordNode(raw='fund', root='fund', pos='NN')\n",
      "WordNode(raw='focuses', root='focus', pos='VBZ')\n",
      "WordNode(raw='on', root='on', pos='IN')\n",
      "WordNode(raw='the', root='the', pos='DT')\n",
      "WordNode(raw='future', root='future', pos='NN')\n",
      "WordNode(raw='of', root='of', pos='IN')\n",
      "WordNode(raw='work', root='work', pos='NN')\n",
      "WordNode(raw=',', root=',', pos='.')\n",
      "WordNode(raw='so', root='so', pos='RB')\n",
      "WordNode(raw='there', root='there', pos='EX')\n",
      "WordNode(raw='are', root='be', pos='VBP')\n",
      "WordNode(raw='some', root='some', pos='DT')\n",
      "WordNode(raw='machine', root='machine', pos='NN')\n",
      "WordNode(raw='intelligence', root='intelligence', pos='NN')\n",
      "WordNode(raw='domains', root='domain', pos='NNS')\n",
      "WordNode(raw='where', root='where', pos='WRB')\n",
      "WordNode(raw='we', root='we', pos='PRP')\n",
      "WordNode(raw='invest', root='invest', pos='VBP')\n",
      "WordNode(raw='more', root='more', pos='JJR')\n",
      "WordNode(raw='than', root='than', pos='IN')\n",
      "WordNode(raw='others', root='other', pos='NNS')\n",
      "WordNode(raw='.', root='.', pos='.')\n",
      "WordNode(raw=')', root=')', pos='.')\n",
      "WordNode(raw='At', root='at', pos='IN')\n",
      "WordNode(raw='the', root='the', pos='DT')\n",
      "WordNode(raw='same', root='same', pos='JJ')\n",
      "WordNode(raw='time', root='time', pos='NN')\n",
      "WordNode(raw=',', root=',', pos='.')\n",
      "WordNode(raw='the', root='the', pos='DT')\n",
      "WordNode(raw='hype', root='hype', pos='NN')\n",
      "WordNode(raw='around', root='around', pos='IN')\n",
      "WordNode(raw='machine', root='machine', pos='NN')\n",
      "WordNode(raw='intelligence', root='intelligence', pos='NN')\n",
      "WordNode(raw='methods', root='method', pos='NNS')\n",
      "WordNode(raw='continues', root='continue', pos='VBZ')\n",
      "WordNode(raw='to', root='to', pos='TO')\n",
      "WordNode(raw='grow', root='grow', pos='VB')\n",
      "WordNode(raw=':', root=':', pos='.')\n",
      "WordNode(raw='the', root='the', pos='DT')\n",
      "WordNode(raw='words', root='word', pos='NNS')\n",
      "WordNode(raw='\"', root='\"', pos='.')\n",
      "WordNode(raw='deep', root='deep', pos='JJ')\n",
      "WordNode(raw='learning', root='learning', pos='NN')\n",
      "WordNode(raw='\"', root='\"', pos='.')\n",
      "WordNode(raw='now', root='now', pos='RB')\n",
      "WordNode(raw='equally', root='equally', pos='RB')\n",
      "WordNode(raw='represent', root='represent', pos='VBP')\n",
      "WordNode(raw='a', root='a', pos='DT')\n",
      "WordNode(raw='series', root='series', pos='NN')\n",
      "WordNode(raw='of', root='of', pos='IN')\n",
      "WordNode(raw='meaningful', root='meaningful', pos='JJ')\n",
      "WordNode(raw='breakthroughs', root='breakthrough', pos='NNS')\n",
      "WordNode(raw='(', root='(', pos='.')\n",
      "WordNode(raw='wonderful', root='wonderful', pos='JJ')\n",
      "WordNode(raw=')', root=')', pos='.')\n",
      "WordNode(raw='but', root='but', pos='CC')\n",
      "WordNode(raw='also', root='also', pos='RB')\n",
      "WordNode(raw='a', root='a', pos='DT')\n",
      "WordNode(raw='hyped', root='hype', pos='VBN')\n",
      "WordNode(raw='phrase', root='phrase', pos='NN')\n",
      "WordNode(raw='like', root='like', pos='IN')\n",
      "WordNode(raw='\"', root='\"', pos='.')\n",
      "WordNode(raw='big', root='big', pos='JJ')\n",
      "WordNode(raw='data', root='datum', pos='NNS')\n",
      "WordNode(raw='\"', root='\"', pos='.')\n",
      "WordNode(raw='(', root='(', pos='.')\n",
      "WordNode(raw='not', root='not', pos='RB')\n",
      "WordNode(raw='so', root='so', pos='RB')\n",
      "WordNode(raw='good', root='good', pos='JJ')\n",
      "WordNode(raw='!', root='!', pos='.')\n",
      "WordNode(raw=')', root=')', pos='.')\n",
      "WordNode(raw='.', root='.', pos='.')\n",
      "WordNode(raw='We', root='we', pos='PRP')\n",
      "WordNode(raw='care', root='care', pos='VBP')\n",
      "WordNode(raw='about', root='about', pos='IN')\n",
      "WordNode(raw='whether', root='whether', pos='IN')\n",
      "WordNode(raw='a', root='a', pos='DT')\n",
      "WordNode(raw='founder', root='founder', pos='NN')\n",
      "WordNode(raw='uses', root='use', pos='VBZ')\n",
      "WordNode(raw='the', root='the', pos='DT')\n",
      "WordNode(raw='right', root='right', pos='JJ')\n",
      "WordNode(raw='method', root='method', pos='NN')\n",
      "WordNode(raw='to', root='to', pos='TO')\n",
      "WordNode(raw='solve', root='solve', pos='VB')\n",
      "WordNode(raw='a', root='a', pos='DT')\n",
      "WordNode(raw='problem', root='problem', pos='NN')\n",
      "WordNode(raw=',', root=',', pos='.')\n",
      "WordNode(raw='not', root='not', pos='RB')\n",
      "WordNode(raw='the', root='the', pos='DT')\n",
      "WordNode(raw='fanciest', root='fanciest', pos='JJS')\n",
      "WordNode(raw='one', root='one', pos='CD')\n",
      "WordNode(raw='.', root='.', pos='.')\n",
      "WordNode(raw='We', root='we', pos='PRP')\n",
      "WordNode(raw='favor', root='favor', pos='VBP')\n",
      "WordNode(raw='those', root='those', pos='DT')\n",
      "WordNode(raw='who', root='who', pos='WP')\n",
      "WordNode(raw='apply', root='apply', pos='VBP')\n",
      "WordNode(raw='technology', root='technology', pos='NN')\n",
      "WordNode(raw='thoughtfully', root='thoughtfully', pos='RB')\n",
      "WordNode(raw='.', root='.', pos='.')\n",
      "WordNode(raw='What', root='what', pos='WP')\n",
      "WordNode(raw=\"'s\", root='be', pos='VBZ')\n",
      "WordNode(raw='the', root='the', pos='DT')\n",
      "WordNode(raw='biggest', root='biggest', pos='JJS')\n",
      "WordNode(raw='change', root='change', pos='NN')\n",
      "WordNode(raw='in', root='in', pos='IN')\n",
      "WordNode(raw='the', root='the', pos='DT')\n",
      "WordNode(raw='last', root='last', pos='JJ')\n",
      "WordNode(raw='year', root='year', pos='NN')\n",
      "WordNode(raw='?', root='?', pos='.')\n",
      "WordNode(raw='We', root='we', pos='PRP')\n",
      "WordNode(raw='are', root='be', pos='VBP')\n",
      "WordNode(raw='getting', root='get', pos='VBG')\n",
      "WordNode(raw='inbound', root='inbound', pos='JJ')\n",
      "WordNode(raw='inquiries', root='inquiry', pos='NNS')\n",
      "WordNode(raw='from', root='from', pos='IN')\n",
      "WordNode(raw='a', root='a', pos='DT')\n",
      "WordNode(raw='different', root='different', pos='JJ')\n",
      "WordNode(raw='mix', root='mix', pos='NN')\n",
      "WordNode(raw='of', root='of', pos='IN')\n",
      "WordNode(raw='people', root='people', pos='NNS')\n",
      "WordNode(raw='.', root='.', pos='.')\n",
      "WordNode(raw='For', root='for', pos='IN')\n",
      "WordNode(raw='v1.0', root='v1.0', pos='NN')\n",
      "WordNode(raw=',', root=',', pos='.')\n",
      "WordNode(raw='we', root='we', pos='PRP')\n",
      "WordNode(raw='heard', root='hear', pos='VBD')\n",
      "WordNode(raw='almost', root='almost', pos='RB')\n",
      "WordNode(raw='exclusively', root='exclusively', pos='RB')\n",
      "WordNode(raw='from', root='from', pos='IN')\n",
      "WordNode(raw='founders', root='founder', pos='NNS')\n",
      "WordNode(raw='and', root='and', pos='CC')\n",
      "WordNode(raw='academics', root='academic', pos='NNS')\n",
      "WordNode(raw='.', root='.', pos='.')\n",
      "WordNode(raw='Then', root='then', pos='RB')\n",
      "WordNode(raw='came', root='come', pos='VBD')\n",
      "WordNode(raw='a', root='a', pos='DT')\n",
      "WordNode(raw='healthy', root='healthy', pos='JJ')\n",
      "WordNode(raw='mix', root='mix', pos='NN')\n",
      "WordNode(raw='of', root='of', pos='IN')\n",
      "WordNode(raw='investors', root='investor', pos='NNS')\n",
      "WordNode(raw=',', root=',', pos='.')\n",
      "WordNode(raw='both', root='both', pos='DT')\n",
      "WordNode(raw='private', root='private', pos='JJ')\n",
      "WordNode(raw='and', root='and', pos='CC')\n",
      "WordNode(raw='public', root='public', pos='JJ')\n",
      "WordNode(raw='.', root='.', pos='.')\n",
      "WordNode(raw='Now', root='now', pos='RB')\n",
      "WordNode(raw='overwhelmingly', root='overwhelmingly', pos='RB')\n",
      "WordNode(raw='we', root='we', pos='PRP')\n",
      "WordNode(raw='have', root='have', pos='VBP')\n",
      "WordNode(raw='heard', root='hear', pos='VBN')\n",
      "WordNode(raw='from', root='from', pos='IN')\n",
      "WordNode(raw='existing', root='exist', pos='VBG')\n",
      "WordNode(raw='companies', root='company', pos='NNS')\n",
      "WordNode(raw='trying', root='try', pos='VBG')\n",
      "WordNode(raw='to', root='to', pos='TO')\n",
      "WordNode(raw='figure', root='figure', pos='VB')\n",
      "WordNode(raw='out', root='out', pos='RP')\n",
      "WordNode(raw='how', root='how', pos='WRB')\n",
      "WordNode(raw='to', root='to', pos='TO')\n",
      "WordNode(raw='transform', root='transform', pos='VB')\n",
      "WordNode(raw='their', root='their', pos='PRP$')\n",
      "WordNode(raw='businesses', root='business', pos='NNS')\n",
      "WordNode(raw='using', root='use', pos='VBG')\n",
      "WordNode(raw='machine', root='machine', pos='NN')\n",
      "WordNode(raw='intelligence', root='intelligence', pos='NN')\n",
      "WordNode(raw='.', root='.', pos='.')\n"
     ]
    }
   ],
   "source": [
    "json_file = \"a1.json\"\n",
    "\n",
    "for lex in pynlp.lex_iter(json_file):\n",
    "    print(lex)"
   ]
  },
  {
   "cell_type": "markdown",
   "metadata": {},
   "source": [
    "We need to initialize some data structures for counting keywords. BTW, if you've heard about how Big Data projects use [word count](http://spark.apache.org/examples.html) programs to demonstrate their capabilities, here's a major use case for that. Even so, our examples are conceptually simple, built for relatively small files, and are not intended to scale:"
   ]
  },
  {
   "cell_type": "code",
   "execution_count": 4,
   "metadata": {
    "collapsed": true
   },
   "outputs": [],
   "source": [
    "from collections import defaultdict\n",
    "\n",
    "files = [\"a4.json\", \"a3.json\", \"a2.json\", \"a1.json\"]\n",
    "files_tf = {}\n",
    "\n",
    "d = len(files)\n",
    "df = defaultdict(int)"
   ]
  },
  {
   "cell_type": "markdown",
   "metadata": {},
   "source": [
    "Iterate through each parsed file, tallying counts for `tf` for each document while also tallying counts for `df` across all documents:"
   ]
  },
  {
   "cell_type": "code",
   "execution_count": 5,
   "metadata": {},
   "outputs": [
    {
     "ename": "FileNotFoundError",
     "evalue": "[Errno 2] No such file or directory: 'a4.json'",
     "output_type": "error",
     "traceback": [
      "\u001b[0;31m---------------------------------------------------------------------------\u001b[0m",
      "\u001b[0;31mFileNotFoundError\u001b[0m                         Traceback (most recent call last)",
      "\u001b[0;32m<ipython-input-5-22149a4cff1e>\u001b[0m in \u001b[0;36m<module>\u001b[0;34m()\u001b[0m\n\u001b[1;32m      2\u001b[0m     \u001b[0mtf\u001b[0m \u001b[0;34m=\u001b[0m \u001b[0mdefaultdict\u001b[0m\u001b[0;34m(\u001b[0m\u001b[0mint\u001b[0m\u001b[0;34m)\u001b[0m\u001b[0;34m\u001b[0m\u001b[0m\n\u001b[1;32m      3\u001b[0m \u001b[0;34m\u001b[0m\u001b[0m\n\u001b[0;32m----> 4\u001b[0;31m     \u001b[0;32mfor\u001b[0m \u001b[0mlex\u001b[0m \u001b[0;32min\u001b[0m \u001b[0mpynlp\u001b[0m\u001b[0;34m.\u001b[0m\u001b[0mlex_iter\u001b[0m\u001b[0;34m(\u001b[0m\u001b[0mjson_file\u001b[0m\u001b[0;34m)\u001b[0m\u001b[0;34m:\u001b[0m\u001b[0;34m\u001b[0m\u001b[0m\n\u001b[0m\u001b[1;32m      5\u001b[0m         \u001b[0;32mif\u001b[0m \u001b[0;34m(\u001b[0m\u001b[0mlex\u001b[0m\u001b[0;34m.\u001b[0m\u001b[0mpos\u001b[0m \u001b[0;34m!=\u001b[0m \u001b[0;34m\".\"\u001b[0m\u001b[0;34m)\u001b[0m \u001b[0;32mand\u001b[0m \u001b[0;34m(\u001b[0m\u001b[0mlex\u001b[0m\u001b[0;34m.\u001b[0m\u001b[0mroot\u001b[0m \u001b[0;32mnot\u001b[0m \u001b[0;32min\u001b[0m \u001b[0mstopwords\u001b[0m\u001b[0;34m)\u001b[0m\u001b[0;34m:\u001b[0m\u001b[0;34m\u001b[0m\u001b[0m\n\u001b[1;32m      6\u001b[0m             \u001b[0mtf\u001b[0m\u001b[0;34m[\u001b[0m\u001b[0mlex\u001b[0m\u001b[0;34m.\u001b[0m\u001b[0mroot\u001b[0m\u001b[0;34m]\u001b[0m \u001b[0;34m+=\u001b[0m \u001b[0;36m1\u001b[0m\u001b[0;34m\u001b[0m\u001b[0m\n",
      "\u001b[0;32m/Users/neo/Desktop/workspace/get_started_with_NLP_in_Python/a41124835ed0/pynlp.py\u001b[0m in \u001b[0;36mlex_iter\u001b[0;34m(json_file)\u001b[0m\n\u001b[1;32m    119\u001b[0m     \u001b[0miterate\u001b[0m \u001b[0mthrough\u001b[0m \u001b[0mthe\u001b[0m \u001b[0mparsed\u001b[0m \u001b[0mresults\u001b[0m \u001b[0;32min\u001b[0m \u001b[0ma\u001b[0m \u001b[0mJSON\u001b[0m \u001b[0mfile\u001b[0m\u001b[0;34m\u001b[0m\u001b[0m\n\u001b[1;32m    120\u001b[0m     \"\"\"\n\u001b[0;32m--> 121\u001b[0;31m     \u001b[0;32mwith\u001b[0m \u001b[0mopen\u001b[0m\u001b[0;34m(\u001b[0m\u001b[0mjson_file\u001b[0m\u001b[0;34m)\u001b[0m \u001b[0;32mas\u001b[0m \u001b[0mf\u001b[0m\u001b[0;34m:\u001b[0m\u001b[0;34m\u001b[0m\u001b[0m\n\u001b[0m\u001b[1;32m    122\u001b[0m         \u001b[0;32mfor\u001b[0m \u001b[0mline\u001b[0m \u001b[0;32min\u001b[0m \u001b[0mf\u001b[0m\u001b[0;34m.\u001b[0m\u001b[0mreadlines\u001b[0m\u001b[0;34m(\u001b[0m\u001b[0;34m)\u001b[0m\u001b[0;34m:\u001b[0m\u001b[0;34m\u001b[0m\u001b[0m\n\u001b[1;32m    123\u001b[0m             \u001b[0;32mfor\u001b[0m \u001b[0mlex\u001b[0m \u001b[0;32min\u001b[0m \u001b[0mlist\u001b[0m\u001b[0;34m(\u001b[0m\u001b[0mmap\u001b[0m\u001b[0;34m(\u001b[0m\u001b[0mWordNode\u001b[0m\u001b[0;34m.\u001b[0m\u001b[0m_make\u001b[0m\u001b[0;34m,\u001b[0m \u001b[0mjson\u001b[0m\u001b[0;34m.\u001b[0m\u001b[0mloads\u001b[0m\u001b[0;34m(\u001b[0m\u001b[0mline\u001b[0m\u001b[0;34m)\u001b[0m\u001b[0;34m)\u001b[0m\u001b[0;34m)\u001b[0m\u001b[0;34m:\u001b[0m\u001b[0;34m\u001b[0m\u001b[0m\n",
      "\u001b[0;31mFileNotFoundError\u001b[0m: [Errno 2] No such file or directory: 'a4.json'"
     ]
    }
   ],
   "source": [
    "for json_file in files:\n",
    "    tf = defaultdict(int)\n",
    "\n",
    "    for lex in pynlp.lex_iter(json_file):\n",
    "        if (lex.pos != \".\") and (lex.root not in stopwords):\n",
    "            tf[lex.root] += 1\n",
    "\n",
    "    files_tf[json_file] = tf\n",
    "\n",
    "    for word in tf.keys():\n",
    "        df[word] += 1\n",
    "\n",
    "## print results for just the last file in the sequence\n",
    "print(json_file, files_tf[json_file])"
   ]
  },
  {
   "cell_type": "markdown",
   "metadata": {},
   "source": [
    "Let's take a look at the `df` results overall. If there are low-information common words in the list that you'd like to filter out, move them to your *stopword* list."
   ]
  },
  {
   "cell_type": "code",
   "execution_count": null,
   "metadata": {},
   "outputs": [],
   "source": [
    "for word, count in sorted(df.items(), key=lambda kv: kv[1], reverse=True):\n",
    "  print(word, count)"
   ]
  },
  {
   "cell_type": "markdown",
   "metadata": {},
   "source": [
    "Finally, we make a second pass through the data, using the `df` counts to normalize `tf` counts, calculating the `tfidf` metrics for each keyword:"
   ]
  },
  {
   "cell_type": "code",
   "execution_count": null,
   "metadata": {},
   "outputs": [],
   "source": [
    "import math\n",
    "\n",
    "for json_file in files:\n",
    "    tf = files_tf[json_file]\n",
    "    keywords = []\n",
    "\n",
    "    for word, count in tf.items():\n",
    "        tfidf = float(count) * math.log((d + 1.0) / (df[word] + 1.0))\n",
    "        keywords.append((json_file, tfidf, word,))"
   ]
  },
  {
   "cell_type": "markdown",
   "metadata": {},
   "source": [
    "Let's take a look at the results for one of the files:"
   ]
  },
  {
   "cell_type": "code",
   "execution_count": null,
   "metadata": {},
   "outputs": [],
   "source": [
    "for json_file, tfidf, word in sorted(keywords, key=lambda x: x[1], reverse=True):\n",
    "    print(\"%s\\t%7.4f\\t%s\" % (json_file, tfidf, word))"
   ]
  },
  {
   "cell_type": "markdown",
   "metadata": {},
   "source": [
    "Question: how does that vector of ranked keywords compare with your reading of the text from the HTML file?"
   ]
  }
 ],
 "metadata": {
  "kernelspec": {
   "display_name": "Python 3",
   "language": "python",
   "name": "python3"
  },
  "language_info": {
   "codemirror_mode": {
    "name": "ipython",
    "version": 3
   },
   "file_extension": ".py",
   "mimetype": "text/x-python",
   "name": "python",
   "nbconvert_exporter": "python",
   "pygments_lexer": "ipython3",
   "version": "3.6.2"
  }
 },
 "nbformat": 4,
 "nbformat_minor": 1
}
