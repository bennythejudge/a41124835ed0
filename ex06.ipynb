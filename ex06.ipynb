{
 "cells": [
  {
   "cell_type": "markdown",
   "metadata": {},
   "source": [
    "# Exercise 06: store annotated text as JSON files"
   ]
  },
  {
   "cell_type": "markdown",
   "metadata": {},
   "source": [
    "Much of the preceding NLP code has been worked into a small library, and we'll call functions from that library to help keep these notebooks more readable. Take a look at the source code in `pynlp.py`, and an example usage:"
   ]
  },
  {
   "cell_type": "code",
   "execution_count": 1,
   "metadata": {},
   "outputs": [],
   "source": [
    "import pynlp\n",
    "\n",
    "html_file = \"html/article1.html\"\n",
    "json_file = \"a1.json\"\n",
    "\n",
    "pynlp.full_parse(html_file, json_file)"
   ]
  },
  {
   "cell_type": "markdown",
   "metadata": {},
   "source": [
    "That extracts text from HTML in the first article, then stores the parsed and annotated text as JSON, one line per sentence. Let's look at the first two sentences:"
   ]
  },
  {
   "cell_type": "code",
   "execution_count": 2,
   "metadata": {},
   "outputs": [
    {
     "data": {
      "text/plain": [
       "['[[\"Almost\", \"almost\", \"RB\"], [\"a\", \"a\", \"DT\"], [\"year\", \"year\", \"NN\"], [\"ago\", \"ago\", \"RB\"], [\",\", \",\", \".\"], [\"we\", \"we\", \"PRP\"], [\"published\", \"publish\", \"VBD\"], [\"our\", \"our\", \"PRP$\"], [\"now\", \"now\", \"RB\"], [\"-\", \"-\", \".\"], [\"annual\", \"annual\", \"JJ\"], [\"landscape\", \"landscape\", \"NN\"], [\"of\", \"of\", \"IN\"], [\"machine\", \"machine\", \"NN\"], [\"intelligence\", \"intelligence\", \"NN\"], [\"companies\", \"company\", \"NNS\"], [\",\", \",\", \".\"], [\"and\", \"and\", \"CC\"], [\"goodness\", \"goodness\", \"NN\"], [\"have\", \"have\", \"VBP\"], [\"we\", \"we\", \"PRP\"], [\"seen\", \"see\", \"VBN\"], [\"a\", \"a\", \"DT\"], [\"lot\", \"lot\", \"NN\"], [\"of\", \"of\", \"IN\"], [\"activity\", \"activity\", \"NN\"], [\"since\", \"since\", \"IN\"], [\"then\", \"then\", \"RB\"], [\".\", \".\", \".\"]]',\n",
       " '[[\"This\", \"this\", \"DT\"], [\"year\", \"year\", \"NN\"], [\"\\'s\", \"\\'s\", \"POS\"], [\"landscape\", \"landscape\", \"NN\"], [\"has\", \"have\", \"VBZ\"], [\"a\", \"a\", \"DT\"], [\"third\", \"third\", \"RB\"], [\"more\", \"more\", \"JJR\"], [\"companies\", \"company\", \"NNS\"], [\"than\", \"than\", \"IN\"], [\"our\", \"our\", \"PRP$\"], [\"first\", \"first\", \"JJ\"], [\"one\", \"one\", \"CD\"], [\"did\", \"do\", \"VBD\"], [\"two\", \"two\", \"CD\"], [\"years\", \"year\", \"NNS\"], [\"ago\", \"ago\", \"RB\"], [\",\", \",\", \".\"], [\"and\", \"and\", \"CC\"], [\"it\", \"it\", \"PRP\"], [\"feels\", \"feel\", \"VBZ\"], [\"even\", \"even\", \"RB\"], [\"more\", \"more\", \"RBR\"], [\"futile\", \"futile\", \"JJ\"], [\"to\", \"to\", \"TO\"], [\"try\", \"try\", \"VB\"], [\"to\", \"to\", \"TO\"], [\"be\", \"be\", \"VB\"], [\"comprehensive\", \"comprehensive\", \"JJ\"], [\",\", \",\", \".\"], [\"since\", \"since\", \"IN\"], [\"this\", \"this\", \"DT\"], [\"just\", \"just\", \"RB\"], [\"scratches\", \"scratch\", \"VBZ\"], [\"the\", \"the\", \"DT\"], [\"surface\", \"surface\", \"NN\"], [\"of\", \"of\", \"IN\"], [\"all\", \"all\", \"DT\"], [\"of\", \"of\", \"IN\"], [\"the\", \"the\", \"DT\"], [\"activity\", \"activity\", \"NN\"], [\"out\", \"out\", \"RB\"], [\"there\", \"there\", \"RB\"], [\".\", \".\", \".\"]]',\n",
       " '[[\"As\", \"as\", \"IN\"], [\"has\", \"have\", \"VBZ\"], [\"been\", \"be\", \"VBN\"], [\"the\", \"the\", \"DT\"], [\"case\", \"case\", \"NN\"], [\"for\", \"for\", \"IN\"], [\"the\", \"the\", \"DT\"], [\"last\", \"last\", \"JJ\"], [\"couple\", \"couple\", \"NN\"], [\"of\", \"of\", \"IN\"], [\"years\", \"year\", \"NNS\"], [\",\", \",\", \".\"], [\"our\", \"our\", \"PRP$\"], [\"fund\", \"fund\", \"NN\"], [\"still\", \"still\", \"RB\"], [\"obsesses\", \"obsess\", \"VBZ\"], [\"over\", \"over\", \"IN\"], [\"\\\\\"\", \"\\\\\"\", \".\"], [\"problem\", \"problem\", \"NN\"], [\"first\", \"first\", \"JJ\"], [\"\\\\\"\", \"\\\\\"\", \".\"], [\"machine\", \"machine\", \"NN\"], [\"intelligence\", \"intelligence\", \"NN\"], [\"--\", \"--\", \".\"], [\"we\", \"we\", \"PRP\"], [\"\\'ve\", \"have\", \"VB\"], [\"invested\", \"invest\", \"VBN\"], [\"in\", \"in\", \"IN\"], [\"35\", \"35\", \"CD\"], [\"machine\", \"machine\", \"NN\"], [\"intelligence\", \"intelligence\", \"NN\"], [\"companies\", \"company\", \"NNS\"], [\"solving\", \"solve\", \"VBG\"], [\"35\", \"35\", \"CD\"], [\"meaningful\", \"meaningful\", \"JJ\"], [\"problems\", \"problem\", \"NNS\"], [\"in\", \"in\", \"IN\"], [\"areas\", \"area\", \"NNS\"], [\"from\", \"from\", \"IN\"], [\"security\", \"security\", \"NN\"], [\"to\", \"to\", \"IN\"], [\"recruiting\", \"recruit\", \"VBG\"], [\"to\", \"to\", \"IN\"], [\"software\", \"software\", \"NN\"], [\"development\", \"development\", \"NN\"], [\".\", \".\", \".\"]]',\n",
       " '[[\"(\", \"(\", \".\"], [\"Our\", \"our\", \"PRP$\"], [\"fund\", \"fund\", \"NN\"], [\"focuses\", \"focus\", \"VBZ\"], [\"on\", \"on\", \"IN\"], [\"the\", \"the\", \"DT\"], [\"future\", \"future\", \"NN\"], [\"of\", \"of\", \"IN\"], [\"work\", \"work\", \"NN\"], [\",\", \",\", \".\"], [\"so\", \"so\", \"RB\"], [\"there\", \"there\", \"EX\"], [\"are\", \"be\", \"VBP\"], [\"some\", \"some\", \"DT\"], [\"machine\", \"machine\", \"NN\"], [\"intelligence\", \"intelligence\", \"NN\"], [\"domains\", \"domain\", \"NNS\"], [\"where\", \"where\", \"WRB\"], [\"we\", \"we\", \"PRP\"], [\"invest\", \"invest\", \"VBP\"], [\"more\", \"more\", \"JJR\"], [\"than\", \"than\", \"IN\"], [\"others\", \"other\", \"NNS\"], [\".\", \".\", \".\"], [\")\", \")\", \".\"]]',\n",
       " '[[\"At\", \"at\", \"IN\"], [\"the\", \"the\", \"DT\"], [\"same\", \"same\", \"JJ\"], [\"time\", \"time\", \"NN\"], [\",\", \",\", \".\"], [\"the\", \"the\", \"DT\"], [\"hype\", \"hype\", \"NN\"], [\"around\", \"around\", \"IN\"], [\"machine\", \"machine\", \"NN\"], [\"intelligence\", \"intelligence\", \"NN\"], [\"methods\", \"method\", \"NNS\"], [\"continues\", \"continue\", \"VBZ\"], [\"to\", \"to\", \"TO\"], [\"grow\", \"grow\", \"VB\"], [\":\", \":\", \".\"], [\"the\", \"the\", \"DT\"], [\"words\", \"word\", \"NNS\"], [\"\\\\\"\", \"\\\\\"\", \".\"], [\"deep\", \"deep\", \"JJ\"], [\"learning\", \"learning\", \"NN\"], [\"\\\\\"\", \"\\\\\"\", \".\"], [\"now\", \"now\", \"RB\"], [\"equally\", \"equally\", \"RB\"], [\"represent\", \"represent\", \"VBP\"], [\"a\", \"a\", \"DT\"], [\"series\", \"series\", \"NN\"], [\"of\", \"of\", \"IN\"], [\"meaningful\", \"meaningful\", \"JJ\"], [\"breakthroughs\", \"breakthrough\", \"NNS\"], [\"(\", \"(\", \".\"], [\"wonderful\", \"wonderful\", \"JJ\"], [\")\", \")\", \".\"], [\"but\", \"but\", \"CC\"], [\"also\", \"also\", \"RB\"], [\"a\", \"a\", \"DT\"], [\"hyped\", \"hype\", \"VBN\"], [\"phrase\", \"phrase\", \"NN\"], [\"like\", \"like\", \"IN\"], [\"\\\\\"\", \"\\\\\"\", \".\"], [\"big\", \"big\", \"JJ\"], [\"data\", \"datum\", \"NNS\"], [\"\\\\\"\", \"\\\\\"\", \".\"], [\"(\", \"(\", \".\"], [\"not\", \"not\", \"RB\"], [\"so\", \"so\", \"RB\"], [\"good\", \"good\", \"JJ\"], [\"!\", \"!\", \".\"], [\")\", \")\", \".\"], [\".\", \".\", \".\"]]',\n",
       " '[[\"We\", \"we\", \"PRP\"], [\"care\", \"care\", \"VBP\"], [\"about\", \"about\", \"IN\"], [\"whether\", \"whether\", \"IN\"], [\"a\", \"a\", \"DT\"], [\"founder\", \"founder\", \"NN\"], [\"uses\", \"use\", \"VBZ\"], [\"the\", \"the\", \"DT\"], [\"right\", \"right\", \"JJ\"], [\"method\", \"method\", \"NN\"], [\"to\", \"to\", \"TO\"], [\"solve\", \"solve\", \"VB\"], [\"a\", \"a\", \"DT\"], [\"problem\", \"problem\", \"NN\"], [\",\", \",\", \".\"], [\"not\", \"not\", \"RB\"], [\"the\", \"the\", \"DT\"], [\"fanciest\", \"fanciest\", \"JJS\"], [\"one\", \"one\", \"CD\"], [\".\", \".\", \".\"]]',\n",
       " '[[\"We\", \"we\", \"PRP\"], [\"favor\", \"favor\", \"VBP\"], [\"those\", \"those\", \"DT\"], [\"who\", \"who\", \"WP\"], [\"apply\", \"apply\", \"VBP\"], [\"technology\", \"technology\", \"NN\"], [\"thoughtfully\", \"thoughtfully\", \"RB\"], [\".\", \".\", \".\"]]',\n",
       " '[[\"What\", \"what\", \"WP\"], [\"\\'s\", \"be\", \"VBZ\"], [\"the\", \"the\", \"DT\"], [\"biggest\", \"biggest\", \"JJS\"], [\"change\", \"change\", \"NN\"], [\"in\", \"in\", \"IN\"], [\"the\", \"the\", \"DT\"], [\"last\", \"last\", \"JJ\"], [\"year\", \"year\", \"NN\"], [\"?\", \"?\", \".\"]]',\n",
       " '[[\"We\", \"we\", \"PRP\"], [\"are\", \"be\", \"VBP\"], [\"getting\", \"get\", \"VBG\"], [\"inbound\", \"inbound\", \"JJ\"], [\"inquiries\", \"inquiry\", \"NNS\"], [\"from\", \"from\", \"IN\"], [\"a\", \"a\", \"DT\"], [\"different\", \"different\", \"JJ\"], [\"mix\", \"mix\", \"NN\"], [\"of\", \"of\", \"IN\"], [\"people\", \"people\", \"NNS\"], [\".\", \".\", \".\"]]',\n",
       " '[[\"For\", \"for\", \"IN\"], [\"v1.0\", \"v1.0\", \"NN\"], [\",\", \",\", \".\"], [\"we\", \"we\", \"PRP\"], [\"heard\", \"hear\", \"VBD\"], [\"almost\", \"almost\", \"RB\"], [\"exclusively\", \"exclusively\", \"RB\"], [\"from\", \"from\", \"IN\"], [\"founders\", \"founder\", \"NNS\"], [\"and\", \"and\", \"CC\"], [\"academics\", \"academic\", \"NNS\"], [\".\", \".\", \".\"]]',\n",
       " '[[\"Then\", \"then\", \"RB\"], [\"came\", \"come\", \"VBD\"], [\"a\", \"a\", \"DT\"], [\"healthy\", \"healthy\", \"JJ\"], [\"mix\", \"mix\", \"NN\"], [\"of\", \"of\", \"IN\"], [\"investors\", \"investor\", \"NNS\"], [\",\", \",\", \".\"], [\"both\", \"both\", \"DT\"], [\"private\", \"private\", \"JJ\"], [\"and\", \"and\", \"CC\"], [\"public\", \"public\", \"JJ\"], [\".\", \".\", \".\"]]',\n",
       " '[[\"Now\", \"now\", \"RB\"], [\"overwhelmingly\", \"overwhelmingly\", \"RB\"], [\"we\", \"we\", \"PRP\"], [\"have\", \"have\", \"VBP\"], [\"heard\", \"hear\", \"VBN\"], [\"from\", \"from\", \"IN\"], [\"existing\", \"exist\", \"VBG\"], [\"companies\", \"company\", \"NNS\"], [\"trying\", \"try\", \"VBG\"], [\"to\", \"to\", \"TO\"], [\"figure\", \"figure\", \"VB\"], [\"out\", \"out\", \"RP\"], [\"how\", \"how\", \"WRB\"], [\"to\", \"to\", \"TO\"], [\"transform\", \"transform\", \"VB\"], [\"their\", \"their\", \"PRP$\"], [\"businesses\", \"business\", \"NNS\"], [\"using\", \"use\", \"VBG\"], [\"machine\", \"machine\", \"NN\"], [\"intelligence\", \"intelligence\", \"NN\"], [\".\", \".\", \".\"]]']"
      ]
     },
     "execution_count": 2,
     "metadata": {},
     "output_type": "execute_result"
    }
   ],
   "source": [
    "%sx more a1.json"
   ]
  },
  {
   "cell_type": "markdown",
   "metadata": {},
   "source": [
    "**Now your turn.** In the following code block, run the extract/parse/save-to-JSON for each of the example HTML files, not just the `article1.html` example:"
   ]
  },
  {
   "cell_type": "code",
   "execution_count": 3,
   "metadata": {},
   "outputs": [],
   "source": [
    "html_file = \"html/article2.html\"\n",
    "json_file = \"a2.json\"\n",
    "\n",
    "pynlp.full_parse(html_file, json_file)"
   ]
  },
  {
   "cell_type": "code",
   "execution_count": 4,
   "metadata": {},
   "outputs": [
    {
     "data": {
      "text/plain": [
       "['[[\"I\", \"i\", \"PRP\"], [\"first\", \"first\", \"RB\"], [\"tried\", \"try\", \"VBD\"], [\"Spark\", \"spark\", \"NNPS\"], [\"around\", \"around\", \"IN\"], [\"the\", \"the\", \"DT\"], [\"version\", \"version\", \"NN\"], [\"0.4\", \"0.4\", \"CD\"], [\"and\", \"and\", \"CC\"], [\"0.5\", \"0.5\", \"CD\"], [\"releases\", \"release\", \"NNS\"], [\".\", \".\", \".\"]]',\n",
       " '[[\"At\", \"at\", \"IN\"], [\"the\", \"the\", \"DT\"], [\"time\", \"time\", \"NN\"], [\",\", \",\", \".\"], [\"I\", \"i\", \"PRP\"], [\"was\", \"be\", \"VBD\"], [\"using\", \"use\", \"VBG\"], [\"Hive\", \"hive\", \"NNP\"], [\"and\", \"and\", \"CC\"], [\"Pig\", \"pig\", \"NNP\"], [\"for\", \"for\", \"IN\"], [\"data\", \"data\", \"NN\"], [\"processing\", \"processing\", \"NN\"], [\",\", \",\", \".\"], [\"while\", \"while\", \"IN\"], [\"evaluating\", \"evaluate\", \"VBG\"], [\"Mahout\", \"mahout\", \"NNP\"], [\"for\", \"for\", \"IN\"], [\"machine\", \"machine\", \"NN\"], [\"learning\", \"learning\", \"NN\"], [\".\", \".\", \".\"]]',\n",
       " '[[\"Other\", \"other\", \"JJ\"], [\"than\", \"than\", \"IN\"], [\"being\", \"be\", \"VBG\"], [\"a\", \"a\", \"DT\"], [\"bit\", \"bit\", \"NN\"], [\"resistant\", \"resistant\", \"JJ\"], [\"to\", \"to\", \"IN\"], [\"having\", \"have\", \"VBG\"], [\"to\", \"to\", \"TO\"], [\"learn\", \"learn\", \"VB\"], [\"a\", \"a\", \"DT\"], [\"new\", \"new\", \"JJ\"], [\"programming\", \"programming\", \"NN\"], [\"language\", \"language\", \"NN\"], [\"--\", \"--\", \".\"], [\"Scala\", \"scala\", \"NNP\"], [\"--\", \"--\", \".\"], [\"which\", \"which\", \"WDT\"], [\"I\", \"i\", \"PRP\"], [\"later\", \"later\", \"RB\"], [\"came\", \"come\", \"VBD\"], [\"to\", \"to\", \"TO\"], [\"love\", \"love\", \"VB\"], [\",\", \",\", \".\"], [\"I\", \"i\", \"PRP\"], [\"immediately\", \"immediately\", \"RB\"], [\"became\", \"become\", \"VBD\"], [\"a\", \"a\", \"DT\"], [\"user\", \"user\", \"NN\"], [\"and\", \"and\", \"CC\"], [\"fan\", \"fan\", \"NN\"], [\"of\", \"of\", \"IN\"], [\"Spark\", \"spark\", \"NNP\"], [\".\", \".\", \".\"]]',\n",
       " '[[\"The\", \"the\", \"DT\"], [\"speed\", \"speed\", \"NN\"], [\"gains\", \"gain\", \"NNS\"], [\"were\", \"be\", \"VBD\"], [\"addicting\", \"addict\", \"VBG\"], [\"!\", \"!\", \".\"]]',\n",
       " '[[\"AMPLab\", \"amplab\", \"NNP\"], [\"was\", \"be\", \"VBD\"], [\"also\", \"also\", \"RB\"], [\"starting\", \"start\", \"VBG\"], [\"to\", \"to\", \"TO\"], [\"roll\", \"roll\", \"VB\"], [\"out\", \"out\", \"RP\"], [\"useful\", \"useful\", \"JJ\"], [\"examples\", \"example\", \"NNS\"], [\"and\", \"and\", \"CC\"], [\"libraries\", \"library\", \"NNS\"], [\"at\", \"at\", \"IN\"], [\"a\", \"a\", \"DT\"], [\"steady\", \"steady\", \"JJ\"], [\"pace\", \"pace\", \"NN\"], [\",\", \",\", \".\"], [\"and\", \"and\", \"CC\"], [\"I\", \"i\", \"PRP\"], [\"soon\", \"soon\", \"RB\"], [\"found\", \"find\", \"VBD\"], [\"myself\", \"myself\", \"PRP\"], [\"finding\", \"find\", \"VBG\"], [\"reasons\", \"reason\", \"NNS\"], [\"to\", \"to\", \"TO\"], [\"use\", \"use\", \"VB\"], [\"Spark\", \"spark\", \"NNP\"], [\"on\", \"on\", \"IN\"], [\"more\", \"more\", \"JJR\"], [\"tasks\", \"task\", \"NNS\"], [\"and\", \"and\", \"CC\"], [\"projects\", \"project\", \"NNS\"], [\".\", \".\", \".\"]]',\n",
       " '[[\"Interacting\", \"interact\", \"VBG\"], [\"with\", \"with\", \"IN\"], [\"and\", \"and\", \"CC\"], [\"getting\", \"get\", \"VBG\"], [\"feedback\", \"feedback\", \"NN\"], [\"from\", \"from\", \"IN\"], [\"developers\", \"developer\", \"NNS\"], [\"at\", \"at\", \"IN\"], [\"local\", \"local\", \"JJ\"], [\"meetups\", \"meetup\", \"NNS\"], [\"was\", \"be\", \"VBD\"], [\"important\", \"important\", \"JJ\"], [\"to\", \"to\", \"IN\"], [\"the\", \"the\", \"DT\"], [\"students\", \"student\", \"NNS\"], [\"and\", \"and\", \"CC\"], [\"Professors\", \"professor\", \"NNS\"], [\"of\", \"of\", \"IN\"], [\"AMPLab\", \"amplab\", \"NNP\"], [\".\", \".\", \".\"]]',\n",
       " '[[\"Around\", \"around\", \"IN\"], [\"mid\", \"mid\", \"JJ\"], [\"2012\", \"2012\", \"CD\"], [\",\", \",\", \".\"], [\"there\", \"there\", \"EX\"], [\"was\", \"be\", \"VBD\"], [\"a\", \"a\", \"DT\"], [\"San\", \"san\", \"NNP\"], [\"Francisco\", \"francisco\", \"NNP\"], [\"meetup\", \"meetup\", \"NN\"], [\"where\", \"where\", \"WRB\"], [\"the\", \"the\", \"DT\"], [\"audience\", \"audience\", \"NN\"], [\"got\", \"get\", \"VBD\"], [\"to\", \"to\", \"TO\"], [\"see\", \"see\", \"VB\"], [\"a\", \"a\", \"DT\"], [\"preview\", \"preview\", \"NN\"], [\"of\", \"of\", \"IN\"], [\"Spark\", \"spark\", \"NNP\"], [\"Streaming\", \"streaming\", \"NNP\"], [\".\", \".\", \".\"]]',\n",
       " '[[\"I\", \"i\", \"PRP\"], [\"remember\", \"remember\", \"VBP\"], [\"the\", \"the\", \"DT\"], [\"reaction\", \"reaction\", \"NN\"], [\"to\", \"to\", \"IN\"], [\"the\", \"the\", \"DT\"], [\"presentation\", \"presentation\", \"NN\"], [\"very\", \"very\", \"RB\"], [\"clearly\", \"clearly\", \"RB\"], [\".\", \".\", \".\"]]',\n",
       " '[[\"There\", \"there\", \"EX\"], [\"was\", \"be\", \"VBD\"], [\"immediate\", \"immediate\", \"JJ\"], [\"interest\", \"interest\", \"NN\"], [\"and\", \"and\", \"CC\"], [\"enthusiasm\", \"enthusiasm\", \"NN\"], [\",\", \",\", \".\"], [\"and\", \"and\", \"CC\"], [\"it\", \"it\", \"PRP\"], [\"was\", \"be\", \"VBD\"], [\"clear\", \"clear\", \"JJ\"], [\"to\", \"to\", \"IN\"], [\"me\", \"me\", \"PRP\"], [\"that\", \"that\", \"IN\"], [\"Spark\", \"spark\", \"NNP\"], [\"Streaming\", \"streaming\", \"NNP\"], [\"was\", \"be\", \"VBD\"], [\"going\", \"go\", \"VBG\"], [\"to\", \"to\", \"TO\"], [\"be\", \"be\", \"VB\"], [\"popular\", \"popular\", \"JJ\"], [\".\", \".\", \".\"]]',\n",
       " '[[\"At\", \"at\", \"IN\"], [\"the\", \"the\", \"DT\"], [\"time\", \"time\", \"NN\"], [\",\", \",\", \".\"], [\"many\", \"many\", \"JJ\"], [\"in\", \"in\", \"IN\"], [\"the\", \"the\", \"DT\"], [\"audience\", \"audience\", \"NN\"], [\"used\", \"use\", \"VBN\"], [\"Storm\", \"storm\", \"NN\"], [\",\", \",\", \".\"], [\"and\", \"and\", \"CC\"], [\"the\", \"the\", \"DT\"], [\"prospect\", \"prospect\", \"NN\"], [\"of\", \"of\", \"IN\"], [\"a\", \"a\", \"DT\"], [\"simplified\", \"simplified\", \"JJ\"], [\"infrastructure\", \"infrastructure\", \"NN\"], [\"(\", \"(\", \".\"], [\"due\", \"due\", \"JJ\"], [\"to\", \"to\", \"IN\"], [\"Spark\", \"spark\", \"NNP\"], [\"\\'s\", \"\\'s\", \"POS\"], [\"ability\", \"ability\", \"NN\"], [\"to\", \"to\", \"TO\"], [\"handle\", \"handle\", \"VB\"], [\"both\", \"both\", \"DT\"], [\"batch\", \"batch\", \"NN\"], [\"and\", \"and\", \"CC\"], [\"streaming\", \"streaming\", \"NN\"], [\")\", \")\", \".\"], [\"was\", \"be\", \"VBD\"], [\"attractive\", \"attractive\", \"JJ\"], [\"to\", \"to\", \"IN\"], [\"many\", \"many\", \"JJ\"], [\"in\", \"in\", \"IN\"], [\"attendance\", \"attendance\", \"NN\"], [\".\", \".\", \".\"]]',\n",
       " '[[\"It\", \"it\", \"PRP\"], [\"was\", \"be\", \"VBD\"], [\"at\", \"at\", \"IN\"], [\"this\", \"this\", \"DT\"], [\"meetup\", \"meetup\", \"NN\"], [\"that\", \"that\", \"WDT\"], [\"I\", \"i\", \"PRP\"], [\"first\", \"first\", \"RB\"], [\"broached\", \"broach\", \"VBD\"], [\"the\", \"the\", \"DT\"], [\"idea\", \"idea\", \"NN\"], [\"of\", \"of\", \"IN\"], [\"a\", \"a\", \"DT\"], [\"Spark\", \"spark\", \"NNP\"], [\"book\", \"book\", \"NN\"], [\"to\", \"to\", \"IN\"], [\"Matei\", \"matei\", \"NNP\"], [\"Zaharia\", \"zaharia\", \"NNP\"], [\"(\", \"(\", \".\"], [\"the\", \"the\", \"DT\"], [\"creator\", \"creator\", \"NN\"], [\"of\", \"of\", \"IN\"], [\"Spark\", \"spark\", \"NNP\"], [\")\", \")\", \".\"], [\".\", \".\", \".\"]]',\n",
       " '[[\"That\", \"that\", \"DT\"], [\"initial\", \"initial\", \"JJ\"], [\"conversation\", \"conversation\", \"NN\"], [\"led\", \"lead\", \"VBD\"], [\"to\", \"to\", \"IN\"], [\"the\", \"the\", \"DT\"], [\"popular\", \"popular\", \"JJ\"], [\"O\\'Reilly\", \"o\\'reilly\", \"NNP\"], [\"title\", \"title\", \"NN\"], [\",\", \",\", \".\"], [\"Learning\", \"learning\", \"NNP\"], [\"Spark\", \"spark\", \"NNP\"], [\".\", \".\", \".\"]]',\n",
       " '[[\"In\", \"in\", \"IN\"], [\"the\", \"the\", \"DT\"], [\"fall\", \"fall\", \"NN\"], [\"of\", \"of\", \"IN\"], [\"2012\", \"2012\", \"CD\"], [\",\", \",\", \".\"], [\"I\", \"i\", \"PRP\"], [\"was\", \"be\", \"VBD\"], [\"fortunate\", \"fortunate\", \"JJ\"], [\"enough\", \"enough\", \"RB\"], [\"to\", \"to\", \"TO\"], [\"get\", \"get\", \"VB\"], [\"invited\", \"invite\", \"VBN\"], [\"to\", \"to\", \"IN\"], [\"the\", \"the\", \"DT\"], [\"first\", \"first\", \"JJ\"], [\"AMP\", \"amp\", \"NNP\"], [\"Camp\", \"camp\", \"NNP\"], [\",\", \",\", \".\"], [\"and\", \"and\", \"CC\"], [\"while\", \"while\", \"IN\"], [\"I\", \"i\", \"PRP\"], [\"was\", \"be\", \"VBD\"], [\"enroute\", \"enroute\", \"NN\"], [\"to\", \"to\", \"IN\"], [\"that\", \"that\", \"DT\"], [\"event\", \"event\", \"NN\"], [\",\", \",\", \".\"], [\"I\", \"i\", \"PRP\"], [\"wrote\", \"write\", \"VBD\"], [\"my\", \"my\", \"PRP$\"], [\"first\", \"first\", \"JJ\"], [\"post\", \"post\", \"NN\"], [\"on\", \"on\", \"IN\"], [\"Spark\", \"spark\", \"NNP\"], [\"(\", \"(\", \".\"], [\"Seven\", \"seven\", \"NNP\"], [\"reasons\", \"reason\", \"NNS\"], [\"why\", \"why\", \"WRB\"], [\"I\", \"i\", \"PRP\"], [\"like\", \"like\", \"VBP\"], [\"Spark\", \"spark\", \"NNP\"], [\")\", \")\", \".\"], [\".\", \".\", \".\"]]',\n",
       " '[[\"AMP\", \"amp\", \"NNP\"], [\"Camps\", \"camps\", \"NNP\"], [\"combined\", \"combine\", \"VBN\"], [\"talks\", \"talk\", \"NNS\"], [\"as\", \"as\", \"RB\"], [\"well\", \"well\", \"RB\"], [\"as\", \"as\", \"IN\"], [\"hands\", \"hand\", \"NNS\"], [\"-\", \"-\", \".\"], [\"on\", \"on\", \"IN\"], [\"tutorials\", \"tutorial\", \"NNS\"], [\"and\", \"and\", \"CC\"], [\"in\", \"in\", \"IN\"], [\"the\", \"the\", \"DT\"], [\"early\", \"early\", \"JJ\"], [\"days\", \"day\", \"NNS\"], [\"of\", \"of\", \"IN\"], [\"Spark\", \"spark\", \"NNP\"], [\"they\", \"they\", \"PRP\"], [\"became\", \"become\", \"VBD\"], [\"the\", \"the\", \"DT\"], [\"defacto\", \"defacto\", \"JJ\"], [\"community\", \"community\", \"NN\"], [\"gathering\", \"gathering\", \"NN\"], [\"for\", \"for\", \"IN\"], [\"users\", \"user\", \"NNS\"], [\".\", \".\", \".\"]]',\n",
       " '[[\"A\", \"a\", \"DT\"], [\"few\", \"few\", \"JJ\"], [\"things\", \"thing\", \"NNS\"], [\"stood\", \"stand\", \"VBD\"], [\"out\", \"out\", \"RP\"], [\"for\", \"for\", \"IN\"], [\"me\", \"me\", \"PRP\"], [\"in\", \"in\", \"IN\"], [\"that\", \"that\", \"DT\"], [\"first\", \"first\", \"JJ\"], [\"AMP\", \"amp\", \"NNP\"], [\"Camp\", \"camp\", \"NNP\"], [\".\", \".\", \".\"]]',\n",
       " '[[\"First\", \"first\", \"RB\"], [\",\", \",\", \".\"], [\"the\", \"the\", \"DT\"], [\"tutorials\", \"tutorial\", \"NNS\"], [\"were\", \"be\", \"VBD\"], [\"cloud\", \"cloud\", \"NN\"], [\"-\", \"-\", \".\"], [\"friendly\", \"friendly\", \"JJ\"], [\"from\", \"from\", \"IN\"], [\"the\", \"the\", \"DT\"], [\"beginning\", \"beginning\", \"NN\"], [\":\", \":\", \".\"], [\"AMP\", \"amp\", \"NNP\"], [\"Camp\", \"camp\", \"NNP\"], [\"tutorials\", \"tutorial\", \"NNS\"], [\"provided\", \"provide\", \"VBD\"], [\"tools\", \"tool\", \"NNS\"], [\"to\", \"to\", \"TO\"], [\"help\", \"help\", \"VB\"], [\"users\", \"user\", \"NNS\"], [\"play\", \"play\", \"VB\"], [\"with\", \"with\", \"IN\"], [\"Spark\", \"spark\", \"NNP\"], [\"on\", \"on\", \"IN\"], [\"AWS\", \"aws\", \"NNP\"], [\".\", \".\", \".\"]]',\n",
       " '[[\"Second\", \"second\", \"RB\"], [\",\", \",\", \".\"], [\"the\", \"the\", \"DT\"], [\"unveiling\", \"unveiling\", \"NN\"], [\"of\", \"of\", \"IN\"], [\"Pyspark\", \"pyspark\", \"NNP\"], [\"came\", \"come\", \"VBD\"], [\"at\", \"at\", \"IN\"], [\"a\", \"a\", \"DT\"], [\"time\", \"time\", \"NN\"], [\"when\", \"when\", \"WRB\"], [\"most\", \"most\", \"JJS\"], [\"of\", \"of\", \"IN\"], [\"the\", \"the\", \"DT\"], [\"early\", \"early\", \"JJ\"], [\"users\", \"user\", \"NNS\"], [\"had\", \"have\", \"VBD\"], [\"JVM\", \"jvm\", \"NNP\"], [\"(\", \"(\", \".\"], [\"Java\", \"java\", \"NNP\"], [\",\", \",\", \".\"], [\"Scala\", \"scala\", \"NNP\"], [\",\", \",\", \".\"], [\"Clojure\", \"clojure\", \"NNP\"], [\")\", \")\", \".\"], [\"backgrounds\", \"background\", \"NNS\"], [\".\", \".\", \".\"]]',\n",
       " '[[\"This\", \"this\", \"DT\"], [\"opened\", \"open\", \"VBD\"], [\"up\", \"up\", \"RP\"], [\"Spark\", \"spark\", \"NNP\"], [\"to\", \"to\", \"IN\"], [\"the\", \"the\", \"DT\"], [\"large\", \"large\", \"JJ\"], [\"number\", \"number\", \"NN\"], [\"of\", \"of\", \"IN\"], [\"data\", \"data\", \"NN\"], [\"scientists\", \"scientist\", \"NNS\"], [\"who\", \"who\", \"WP\"], [\"use\", \"use\", \"VBP\"], [\"Python\", \"python\", \"NNP\"], [\"as\", \"as\", \"IN\"], [\"their\", \"their\", \"PRP$\"], [\"primary\", \"primary\", \"JJ\"], [\"language\", \"language\", \"NN\"], [\".\", \".\", \".\"]]',\n",
       " '[[\"This\", \"this\", \"DT\"], [\"has\", \"have\", \"VBZ\"], [\"worked\", \"work\", \"VBN\"], [\"out\", \"out\", \"RP\"], [\"extremely\", \"extremely\", \"RB\"], [\"well\", \"well\", \"RB\"], [\"--\", \"--\", \".\"], [\"the\", \"the\", \"DT\"], [\"most\", \"most\", \"RBS\"], [\"recent\", \"recent\", \"JJ\"], [\"user\", \"user\", \"NN\"], [\"survey\", \"survey\", \"NN\"], [\"suggests\", \"suggest\", \"VBZ\"], [\"Python\", \"python\", \"NNP\"], [\"and\", \"and\", \"CC\"], [\"Scala\", \"scala\", \"NNP\"], [\"have\", \"have\", \"VBP\"], [\"the\", \"the\", \"DT\"], [\"same\", \"same\", \"JJ\"], [\"number\", \"number\", \"NN\"], [\"of\", \"of\", \"IN\"], [\"users\", \"user\", \"NNS\"], [\"in\", \"in\", \"IN\"], [\"the\", \"the\", \"DT\"], [\"Spark\", \"spark\", \"NNP\"], [\"community\", \"community\", \"NN\"], [\".\", \".\", \".\"]]',\n",
       " '[[\"Finally\", \"finally\", \"RB\"], [\",\", \",\", \".\"], [\"machine\", \"machine\", \"NN\"], [\"learning\", \"learning\", \"NN\"], [\"was\", \"be\", \"VBD\"], [\"featured\", \"feature\", \"VBN\"], [\"prominently\", \"prominently\", \"RB\"], [\"at\", \"at\", \"IN\"], [\"that\", \"that\", \"IN\"], [\"first\", \"first\", \"RB\"], [\"AMP\", \"amp\", \"NNP\"], [\"Camp\", \"camp\", \"NNP\"], [\".\", \".\", \".\"]]',\n",
       " '[[\"From\", \"from\", \"IN\"], [\"the\", \"the\", \"DT\"], [\"early\", \"early\", \"JJ\"], [\"days\", \"day\", \"NNS\"], [\"of\", \"of\", \"IN\"], [\"Spark\", \"spark\", \"NNP\"], [\",\", \",\", \".\"], [\"many\", \"many\", \"JJ\"], [\"users\", \"user\", \"NNS\"], [\",\", \",\", \".\"], [\"including\", \"include\", \"VBG\"], [\"myself\", \"myself\", \"PRP\"], [\",\", \",\", \".\"], [\"were\", \"be\", \"VBD\"], [\"drawn\", \"draw\", \"VBN\"], [\"to\", \"to\", \"IN\"], [\"its\", \"its\", \"PRP$\"], [\"potential\", \"potential\", \"JJ\"], [\"for\", \"for\", \"IN\"], [\"machine\", \"machine\", \"NN\"], [\"learning\", \"learning\", \"NN\"], [\"tasks\", \"task\", \"NNS\"], [\".\", \".\", \".\"]]']"
      ]
     },
     "execution_count": 4,
     "metadata": {},
     "output_type": "execute_result"
    }
   ],
   "source": [
    "%sx more a2.json"
   ]
  },
  {
   "cell_type": "code",
   "execution_count": null,
   "metadata": {
    "collapsed": true
   },
   "outputs": [],
   "source": []
  }
 ],
 "metadata": {
  "kernelspec": {
   "display_name": "Python 3",
   "language": "python",
   "name": "python3"
  },
  "language_info": {
   "codemirror_mode": {
    "name": "ipython",
    "version": 3
   },
   "file_extension": ".py",
   "mimetype": "text/x-python",
   "name": "python",
   "nbconvert_exporter": "python",
   "pygments_lexer": "ipython3",
   "version": "3.6.2"
  }
 },
 "nbformat": 4,
 "nbformat_minor": 1
}
